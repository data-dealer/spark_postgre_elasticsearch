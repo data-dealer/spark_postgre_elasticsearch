{
 "cells": [
  {
   "cell_type": "code",
   "execution_count": 2,
   "id": "ad9c2ba3-eee9-4419-974b-1fbcbbf26cc3",
   "metadata": {
    "editable": true,
    "slideshow": {
     "slide_type": ""
    },
    "tags": []
   },
   "outputs": [
    {
     "name": "stderr",
     "output_type": "stream",
     "text": [
      "Warning: Ignoring non-Spark config property: log4j.logger.org.apache.hadoop.metrics2\n"
     ]
    },
    {
     "name": "stdout",
     "output_type": "stream",
     "text": [
      ":: loading settings :: url = jar:file:/opt/bitnami/spark/jars/ivy-2.5.1.jar!/org/apache/ivy/core/settings/ivysettings.xml\n"
     ]
    },
    {
     "name": "stderr",
     "output_type": "stream",
     "text": [
      "Ivy Default Cache set to: /root/.ivy2/cache\n",
      "The jars for the packages stored in: /root/.ivy2/jars\n",
      "org.elasticsearch#elasticsearch-spark-30_2.12 added as a dependency\n",
      "commons-httpclient#commons-httpclient added as a dependency\n",
      ":: resolving dependencies :: org.apache.spark#spark-submit-parent-02f245b2-ea74-42ec-9b57-912d9a6a0d33;1.0\n",
      "\tconfs: [default]\n",
      "\tfound org.elasticsearch#elasticsearch-spark-30_2.12;7.12.0 in central\n",
      "\tfound org.scala-lang#scala-reflect;2.12.8 in central\n",
      "\tfound org.slf4j#slf4j-api;1.7.6 in central\n",
      "\tfound commons-logging#commons-logging;1.1.1 in central\n",
      "\tfound javax.xml.bind#jaxb-api;2.3.1 in central\n",
      "\tfound com.google.protobuf#protobuf-java;2.5.0 in central\n",
      "\tfound org.apache.spark#spark-yarn_2.12;3.0.1 in central\n",
      "\tfound commons-httpclient#commons-httpclient;3.1 in central\n",
      "\tfound commons-codec#commons-codec;1.2 in central\n",
      ":: resolution report :: resolve 403ms :: artifacts dl 15ms\n",
      "\t:: modules in use:\n",
      "\tcom.google.protobuf#protobuf-java;2.5.0 from central in [default]\n",
      "\tcommons-codec#commons-codec;1.2 from central in [default]\n",
      "\tcommons-httpclient#commons-httpclient;3.1 from central in [default]\n",
      "\tcommons-logging#commons-logging;1.1.1 from central in [default]\n",
      "\tjavax.xml.bind#jaxb-api;2.3.1 from central in [default]\n",
      "\torg.apache.spark#spark-yarn_2.12;3.0.1 from central in [default]\n",
      "\torg.elasticsearch#elasticsearch-spark-30_2.12;7.12.0 from central in [default]\n",
      "\torg.scala-lang#scala-reflect;2.12.8 from central in [default]\n",
      "\torg.slf4j#slf4j-api;1.7.6 from central in [default]\n",
      "\t:: evicted modules:\n",
      "\tcommons-logging#commons-logging;1.0.4 by [commons-logging#commons-logging;1.1.1] in [default]\n",
      "\t---------------------------------------------------------------------\n",
      "\t|                  |            modules            ||   artifacts   |\n",
      "\t|       conf       | number| search|dwnlded|evicted|| number|dwnlded|\n",
      "\t---------------------------------------------------------------------\n",
      "\t|      default     |   10  |   0   |   0   |   1   ||   9   |   0   |\n",
      "\t---------------------------------------------------------------------\n",
      ":: retrieving :: org.apache.spark#spark-submit-parent-02f245b2-ea74-42ec-9b57-912d9a6a0d33\n",
      "\tconfs: [default]\n",
      "\t0 artifacts copied, 9 already retrieved (0kB/9ms)\n"
     ]
    },
    {
     "name": "stdout",
     "output_type": "stream",
     "text": [
      "24/11/14 05:34:50 WARN NativeCodeLoader: Unable to load native-hadoop library for your platform... using builtin-java classes where applicable\n"
     ]
    },
    {
     "name": "stderr",
     "output_type": "stream",
     "text": [
      "Setting default log level to \"WARN\".\n",
      "To adjust logging level use sc.setLogLevel(newLevel). For SparkR, use setLogLevel(newLevel).\n"
     ]
    }
   ],
   "source": [
    "from pyspark.sql import SparkSession\n",
    "from pyspark.sql import functions as F\n",
    "from pyspark.sql.types import *\n",
    "\n",
    "# Py4JJavaError: An error occurred while calling o73.save.\n",
    "# : java.lang.NoClassDefFoundError: org/apache/commons/httpclient/protocol/ProtocolSocketFactory\n",
    "spark = (\n",
    "    SparkSession\n",
    "    .builder\n",
    "    .master('spark://host.docker.internal:7077')\n",
    "    .appName(\"pytest\")\n",
    "    # .config(\"spark.jars.packages\", \"org.elasticsearch:elasticsearch-hadoop:8.12.1\")\n",
    "    # .config(\"spark.jars.packages\", \"org.elasticsearch:elasticsearch-spark-30_2.12:7.12.0,org.apache.spark:spark-sql-kafka-0-10_2.12:3.0.0\")\n",
    "    .config(\"spark.jars.packages\", \"org.elasticsearch:elasticsearch-spark-30_2.12:7.12.0,commons-httpclient:commons-httpclient:3.1\")\n",
    "    # .config(\"spark.sql.extensions\", \"io.delta.sql.DeltaSparkSessionExtension\")\n",
    "    # .config(\"spark.sql.catalog.spark_catalog\", \"org.apache.spark.sql.delta.catalog.DeltaCatalog\")\n",
    "    .getOrCreate()\n",
    ")"
   ]
  },
  {
   "cell_type": "code",
   "execution_count": 25,
   "id": "f7e62588-7ba6-4b6c-966c-2906a33f28fb",
   "metadata": {},
   "outputs": [
    {
     "name": "stderr",
     "output_type": "stream",
     "text": [
      "[Stage 40:===============================================>        (21 + 2) / 25]"
     ]
    },
    {
     "name": "stdout",
     "output_type": "stream",
     "text": [
      "+-------+---+-----------+\n",
      "|   name|age|       city|\n",
      "+-------+---+-----------+\n",
      "|  Alice| 31|   New York|\n",
      "|    Bob| 25|Los Angeles|\n",
      "|Charlie| 35|    Chicago|\n",
      "+-------+---+-----------+\n",
      "\n"
     ]
    },
    {
     "name": "stderr",
     "output_type": "stream",
     "text": [
      "                                                                                "
     ]
    }
   ],
   "source": [
    "data = [\n",
    "    (\"Alice\", 31, \"New York\"),\n",
    "    (\"Bob\", 25, \"Los Angeles\"),\n",
    "    (\"Charlie\", 35, \"Chicago\"),\n",
    "]\n",
    "\n",
    "df = spark.createDataFrame(data, [\"name\", \"age\", \"city\"])\n",
    "df.show()"
   ]
  },
  {
   "cell_type": "code",
   "execution_count": 33,
   "id": "f3e8c7aa-b67a-48ff-80d9-adb91cc9b4ff",
   "metadata": {},
   "outputs": [
    {
     "name": "stderr",
     "output_type": "stream",
     "text": [
      "                                                                                "
     ]
    },
    {
     "name": "stdout",
     "output_type": "stream",
     "text": [
      "+---+-------+---+-----------+----+\n",
      "| id|   name|age|       city|type|\n",
      "+---+-------+---+-----------+----+\n",
      "|  1|  Alice| 32|   New York|   x|\n",
      "|  2|    Bob| 25|Los Angeles|   y|\n",
      "|  3|Charlie| 35|    Chicago|   x|\n",
      "+---+-------+---+-----------+----+\n",
      "\n"
     ]
    }
   ],
   "source": [
    "data = [\n",
    "    (1, \"Alice\", 32, \"New York\", 'x'),\n",
    "    (2, \"Bob\", 25, \"Los Angeles\", 'y'),\n",
    "    (3, \"Charlie\", 35, \"Chicago\", 'x'),\n",
    "]\n",
    "\n",
    "df = spark.createDataFrame(data, [\"id\", \"name\", \"age\", \"city\", \"type\"])\n",
    "df.show()"
   ]
  },
  {
   "cell_type": "code",
   "execution_count": 7,
   "id": "00ddd335-7c67-4bc4-81c1-a8efc2bb30c9",
   "metadata": {},
   "outputs": [
    {
     "name": "stdout",
     "output_type": "stream",
     "text": [
      "Collecting elasticsearch\n",
      "  Downloading elasticsearch-8.16.0-py3-none-any.whl.metadata (8.8 kB)\n",
      "Collecting elastic-transport<9,>=8.15.1 (from elasticsearch)\n",
      "  Downloading elastic_transport-8.15.1-py3-none-any.whl.metadata (3.7 kB)\n",
      "Requirement already satisfied: urllib3<3,>=1.26.2 in /opt/bitnami/python/lib/python3.10/site-packages (from elastic-transport<9,>=8.15.1->elasticsearch) (1.26.20)\n",
      "Requirement already satisfied: certifi in /opt/bitnami/python/lib/python3.10/site-packages (from elastic-transport<9,>=8.15.1->elasticsearch) (2024.8.30)\n",
      "Downloading elasticsearch-8.16.0-py3-none-any.whl (543 kB)\n",
      "\u001b[2K   \u001b[90m━━━━━━━━━━━━━━━━━━━━━━━━━━━━━━━━━━━━━━━━\u001b[0m \u001b[32m543.1/543.1 kB\u001b[0m \u001b[31m3.4 MB/s\u001b[0m eta \u001b[36m0:00:00\u001b[0ma \u001b[36m0:00:01\u001b[0mm\n",
      "\u001b[?25hDownloading elastic_transport-8.15.1-py3-none-any.whl (64 kB)\n",
      "\u001b[2K   \u001b[90m━━━━━━━━━━━━━━━━━━━━━━━━━━━━━━━━━━━━━━━━\u001b[0m \u001b[32m64.4/64.4 kB\u001b[0m \u001b[31m9.6 MB/s\u001b[0m eta \u001b[36m0:00:00\u001b[0m\n",
      "\u001b[?25hInstalling collected packages: elastic-transport, elasticsearch\n",
      "Successfully installed elastic-transport-8.15.1 elasticsearch-8.16.0\n",
      "\u001b[33mWARNING: Running pip as the 'root' user can result in broken permissions and conflicting behaviour with the system package manager. It is recommended to use a virtual environment instead: https://pip.pypa.io/warnings/venv\u001b[0m\u001b[33m\n",
      "\u001b[0m"
     ]
    }
   ],
   "source": [
    "!pip install elasticsearch"
   ]
  },
  {
   "cell_type": "code",
   "execution_count": 35,
   "id": "9c014c54-881a-4f7f-b3d9-21abb7b57f94",
   "metadata": {},
   "outputs": [
    {
     "name": "stderr",
     "output_type": "stream",
     "text": [
      "                                                                                "
     ]
    }
   ],
   "source": [
    "es_nodes = \"http://host.docker.internal:9200\"\n",
    "es_resource = \"test_index/_doc\"\n",
    "\n",
    "# (\n",
    "#     df.write \n",
    "#     .format(\"org.elasticsearch.spark.sql\")\n",
    "#     .option(\"es.net.ssl\", \"false\")\n",
    "#     .option(\"es.nodes.wan.only\",\"true\")\n",
    "#     .option(\"es.nodes\", es_nodes)  \n",
    "#     .option(\"es.resource\", es_resource)\n",
    "#    .save(\"test_index/_doc\")\n",
    "# )\n",
    "\n",
    "esconf={\n",
    "    \"es.mapping.id\": \"id\",\n",
    "    \"es.mapping.exclude\": \"id\",\n",
    "    \"es.nodes\": \"http://host.docker.internal\",\n",
    "    \"es.port\": \"9200\",\n",
    "    \"es.update.script.inline\": \"ctx._source.location = params.type\",\n",
    "    \"es.write.operation\": \"upsert\"\n",
    "    \n",
    "}\n",
    "df.write.format(\"org.elasticsearch.spark.sql\").options(**esconf).mode(\"append\").save(es_resource)\n",
    "\n",
    "\n",
    "# esconf[\"es.mapping.id\"] = \"_id\"\n",
    "# esconf[\"es.nodes\"] = \"localhost\"\n",
    "# esconf[\"es.port\"] = \"9200\"\n",
    "# esconf[\"es.update.script.inline\"] = \"ctx._source.location = params.location\"\n",
    "# esconf[\"es.update.script.params\"] = \"location:\"\n",
    "# esconf[\"es.write.operation\"] = \"upsert\"\n",
    "\n",
    "# df.write.format(\"org.elasticsearch.spark.sql\")\\\n",
    "#     .option(\"es.nodes\", es_nodes)\\\n",
    "#     .option(\"es.nodes.discovery\", \"false\")\\\n",
    "#     .option(\"es.nodes.wan.only\", \"true\")\\\n",
    "#     .option(\"es.index.auto.create\", \"true\")\\\n",
    "#     .option(\"es.mapping.id\", \"id\")\\\n",
    "#     .option(\"es.mapping.exclude\", \"id\")\\\n",
    "#     # .option(\"es.write.operation\", \"upsert\")\\\n",
    "#     .save(\"test_index/_doc\")"
   ]
  },
  {
   "cell_type": "code",
   "execution_count": null,
   "id": "61a637da-3c89-4f93-a82c-d5a857e60060",
   "metadata": {},
   "outputs": [],
   "source": []
  }
 ],
 "metadata": {
  "kernelspec": {
   "display_name": "Python 3 (ipykernel)",
   "language": "python",
   "name": "python3"
  },
  "language_info": {
   "codemirror_mode": {
    "name": "ipython",
    "version": 3
   },
   "file_extension": ".py",
   "mimetype": "text/x-python",
   "name": "python",
   "nbconvert_exporter": "python",
   "pygments_lexer": "ipython3",
   "version": "3.10.13"
  }
 },
 "nbformat": 4,
 "nbformat_minor": 5
}
